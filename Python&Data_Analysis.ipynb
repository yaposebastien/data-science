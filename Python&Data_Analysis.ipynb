{
 "cells": [
  {
   "cell_type": "markdown",
   "id": "43be14b2-19b1-4911-b815-a19a626c6f39",
   "metadata": {
    "tags": []
   },
   "source": [
    "# Concept 1: List, Set, and Dictionary Comprehensions\n",
    "\n",
    "\n",
    "## Objectifs\n",
    "\n",
    "Après avoir terminé cet atelier, vous serez en mesure de:\n",
    "\n",
    "*   Utiliser les list, set et dictionary comprehensions en python\n"
   ]
  },
  {
   "cell_type": "code",
   "execution_count": 2,
   "id": "06708734-cf66-4a12-9121-afc4071c55d7",
   "metadata": {
    "tags": []
   },
   "outputs": [],
   "source": [
    "villes_civ = ['Divo', 'Man', 'Bouaké', 'Katiola', 'Yamoussokro']"
   ]
  },
  {
   "cell_type": "code",
   "execution_count": 4,
   "id": "59c4831c-c841-4fa8-b8a8-ecf3807a6ed9",
   "metadata": {
    "tags": []
   },
   "outputs": [
    {
     "data": {
      "text/plain": [
       "['Divo', 'Man']"
      ]
     },
     "execution_count": 4,
     "metadata": {},
     "output_type": "execute_result"
    }
   ],
   "source": [
    "# Créer une nouvelle liste ne contenant que les villes ayant quatre(4) lettres ou moins\n",
    "villes_civ_quatre_lettres = [ville for ville in villes_civ if len(ville) <= 4]\n",
    "villes_civ_quatre_lettres"
   ]
  },
  {
   "cell_type": "code",
   "execution_count": null,
   "id": "d920d169-177f-478c-ae66-e119e18004d8",
   "metadata": {},
   "outputs": [],
   "source": []
  }
 ],
 "metadata": {
  "kernelspec": {
   "display_name": "Python 3 (ipykernel)",
   "language": "python",
   "name": "python3"
  },
  "language_info": {
   "codemirror_mode": {
    "name": "ipython",
    "version": 3
   },
   "file_extension": ".py",
   "mimetype": "text/x-python",
   "name": "python",
   "nbconvert_exporter": "python",
   "pygments_lexer": "ipython3",
   "version": "3.9.13"
  }
 },
 "nbformat": 4,
 "nbformat_minor": 5
}
