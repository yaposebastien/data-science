{
 "cells": [
  {
   "cell_type": "markdown",
   "metadata": {},
   "source": [
    "Fichier: analysis_data_gouv_ci_eco_petits_commerces_abidjan.ipynb\n",
    "Dataset: datasets/data_gouv_ci/economie/Listing des petits commerces et petits services à Abidjan.xlsx"
   ]
  },
  {
   "cell_type": "markdown",
   "metadata": {},
   "source": []
  },
  {
   "cell_type": "code",
   "execution_count": 2,
   "metadata": {},
   "outputs": [
    {
     "name": "stderr",
     "output_type": "stream",
     "text": [
      "/home/yankees/.local/lib/python3.11/site-packages/pandas/compat/__init__.py:124: UserWarning: Could not import the lzma module. Your installed Python is incomplete. Attempting to use lzma compression will result in a RuntimeError.\n",
      "  warnings.warn(msg)\n"
     ]
    },
    {
     "name": "stdout",
     "output_type": "stream",
     "text": [
      "['smallbusinessabidjan']\n"
     ]
    }
   ],
   "source": [
    "# Import pandas\n",
    "import pandas as pd\n",
    "\n",
    "# Assignation fichier excel: fichier\n",
    "fichier = 'datasets/data_gouv_ci/economie/Listing des petits commerces et petits services à Abidjan.xlsx'\n",
    "\n",
    "# Load spreadsheet : xlsx\n",
    "xlsx = pd.ExcelFile(fichier)\n",
    "\n",
    "# Affichage sheet name\n",
    "print(xlsx.sheet_names)"
   ]
  },
  {
   "cell_type": "code",
   "execution_count": 3,
   "metadata": {},
   "outputs": [
    {
     "data": {
      "text/html": [
       "<div>\n",
       "<style scoped>\n",
       "    .dataframe tbody tr th:only-of-type {\n",
       "        vertical-align: middle;\n",
       "    }\n",
       "\n",
       "    .dataframe tbody tr th {\n",
       "        vertical-align: top;\n",
       "    }\n",
       "\n",
       "    .dataframe thead th {\n",
       "        text-align: right;\n",
       "    }\n",
       "</style>\n",
       "<table border=\"1\" class=\"dataframe\">\n",
       "  <thead>\n",
       "    <tr style=\"text-align: right;\">\n",
       "      <th></th>\n",
       "      <th>Coordonnees</th>\n",
       "      <th>Categorie</th>\n",
       "      <th>Nom de l'activite</th>\n",
       "    </tr>\n",
       "  </thead>\n",
       "  <tbody>\n",
       "    <tr>\n",
       "      <th>0</th>\n",
       "      <td>{\"type\":\"Point\",\"coordinates\":[-4.0557911,5.34...</td>\n",
       "      <td>Artisanat</td>\n",
       "      <td>Atelier D'Architecture Metalique</td>\n",
       "    </tr>\n",
       "    <tr>\n",
       "      <th>1</th>\n",
       "      <td>{\"type\":\"Point\",\"coordinates\":[-4.0587267,5.34...</td>\n",
       "      <td>Artisanat</td>\n",
       "      <td>Vulcanisateur</td>\n",
       "    </tr>\n",
       "    <tr>\n",
       "      <th>2</th>\n",
       "      <td>{\"type\":\"Point\",\"coordinates\":[-4.0589274,5.34...</td>\n",
       "      <td>Artisanat</td>\n",
       "      <td>Horlogier</td>\n",
       "    </tr>\n",
       "    <tr>\n",
       "      <th>3</th>\n",
       "      <td>{\"type\":\"Point\",\"coordinates\":[-4.059064,5.342...</td>\n",
       "      <td>Artisanat</td>\n",
       "      <td>Reparateur Ventilateur</td>\n",
       "    </tr>\n",
       "    <tr>\n",
       "      <th>4</th>\n",
       "      <td>{\"type\":\"Point\",\"coordinates\":[-4.0811366,5.34...</td>\n",
       "      <td>Artisanat</td>\n",
       "      <td>Ferronnerie</td>\n",
       "    </tr>\n",
       "  </tbody>\n",
       "</table>\n",
       "</div>"
      ],
      "text/plain": [
       "                                         Coordonnees  Categorie  \\\n",
       "0  {\"type\":\"Point\",\"coordinates\":[-4.0557911,5.34...  Artisanat   \n",
       "1  {\"type\":\"Point\",\"coordinates\":[-4.0587267,5.34...  Artisanat   \n",
       "2  {\"type\":\"Point\",\"coordinates\":[-4.0589274,5.34...  Artisanat   \n",
       "3  {\"type\":\"Point\",\"coordinates\":[-4.059064,5.342...  Artisanat   \n",
       "4  {\"type\":\"Point\",\"coordinates\":[-4.0811366,5.34...  Artisanat   \n",
       "\n",
       "                  Nom de l'activite  \n",
       "0  Atelier D'Architecture Metalique  \n",
       "1                     Vulcanisateur  \n",
       "2                         Horlogier  \n",
       "3            Reparateur Ventilateur  \n",
       "4                       Ferronnerie  "
      ]
     },
     "execution_count": 3,
     "metadata": {},
     "output_type": "execute_result"
    }
   ],
   "source": [
    "# Load fichier excel into dataframe using its index (0)\n",
    "df_petits_commerces = xlsx.parse(0, skiprows=[0], names=['Coordonnees', 'Categorie', \"Nom de l'activite\"])\n",
    "\n",
    "# Affichage entete de la dataframe\n",
    "df_petits_commerces.head()"
   ]
  },
  {
   "cell_type": "code",
   "execution_count": 4,
   "metadata": {},
   "outputs": [
    {
     "data": {
      "text/plain": [
       "Coordonnees          object\n",
       "Categorie            object\n",
       "Nom de l'activite    object\n",
       "dtype: object"
      ]
     },
     "execution_count": 4,
     "metadata": {},
     "output_type": "execute_result"
    }
   ],
   "source": [
    "# Get data types of columns\n",
    "df_petits_commerces.dtypes"
   ]
  },
  {
   "cell_type": "code",
   "execution_count": 5,
   "metadata": {},
   "outputs": [
    {
     "name": "stdout",
     "output_type": "stream",
     "text": [
      "<class 'pandas.core.frame.DataFrame'>\n",
      "RangeIndex: 2760 entries, 0 to 2759\n",
      "Data columns (total 3 columns):\n",
      " #   Column             Non-Null Count  Dtype \n",
      "---  ------             --------------  ----- \n",
      " 0   Coordonnees        2760 non-null   object\n",
      " 1   Categorie          2760 non-null   object\n",
      " 2   Nom de l'activite  2760 non-null   object\n",
      "dtypes: object(3)\n",
      "memory usage: 64.8+ KB\n"
     ]
    }
   ],
   "source": [
    "# Get DataFrame information\n",
    "df_petits_commerces.info()"
   ]
  },
  {
   "cell_type": "code",
   "execution_count": 6,
   "metadata": {},
   "outputs": [
    {
     "data": {
      "text/plain": [
       "count                                                  2760\n",
       "unique                                                 2758\n",
       "top       {\"type\":\"Point\",\"coordinates\":[-3.9679447,5.30...\n",
       "freq                                                      2\n",
       "Name: Coordonnees, dtype: object"
      ]
     },
     "execution_count": 6,
     "metadata": {},
     "output_type": "execute_result"
    }
   ],
   "source": [
    "# Get the summary statistic\n",
    "df_petits_commerces['Coordonnees'].describe()"
   ]
  },
  {
   "cell_type": "code",
   "execution_count": null,
   "metadata": {},
   "outputs": [],
   "source": []
  }
 ],
 "metadata": {
  "kernelspec": {
   "display_name": "Python 3",
   "language": "python",
   "name": "python3"
  },
  "language_info": {
   "codemirror_mode": {
    "name": "ipython",
    "version": 3
   },
   "file_extension": ".py",
   "mimetype": "text/x-python",
   "name": "python",
   "nbconvert_exporter": "python",
   "pygments_lexer": "ipython3",
   "version": "3.11.1"
  }
 },
 "nbformat": 4,
 "nbformat_minor": 2
}
