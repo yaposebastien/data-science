{
 "cells": [
  {
   "cell_type": "markdown",
   "id": "83644559-80d4-44dc-8da1-8c7dde0ac558",
   "metadata": {
    "tags": []
   },
   "source": [
    "# **Extract Transform Load (ETL)**\n"
   ]
  },
  {
   "cell_type": "markdown",
   "id": "73c9fdea-9ed5-44ca-9cdd-afed6692e69d",
   "metadata": {
    "tags": []
   },
   "source": [
    "# Concept: Extract Transform Load (ETL)\n",
    "\n",
    "\n",
    "## Objectifs\n",
    "\n",
    "Après avoir terminé cet atelier, vous serez en mesure de:\n",
    "\n",
    "*   Lire des fichiers d'extension CSV\n",
    "*   Extraire des données contenues dans les fichiers sub-mentionnés\n",
    "*   Transformer ces données\n",
    "*   Sauvegarder les données transformées dans un format compatible ou à l enregistrement dans une base de données\n"
   ]
  },
  {
   "cell_type": "markdown",
   "id": "e297e3a4-5469-4b67-b397-fbf0fba4bbf1",
   "metadata": {
    "tags": []
   },
   "source": [
    "Importation des modules requis"
   ]
  },
  {
   "cell_type": "code",
   "execution_count": 5,
   "id": "e164c583-a52a-42e1-8b8f-c888440a334a",
   "metadata": {
    "tags": []
   },
   "outputs": [],
   "source": [
    "import glob  # Ce module permets la selection des fichiers\n",
    "import pandas as pd # Ce module permets le traitement des fichiers\n",
    "from datetime import datetime\n",
    "import os"
   ]
  },
  {
   "cell_type": "markdown",
   "id": "4004de7d-e810-4da7-b1a0-16d09f4d2d53",
   "metadata": {},
   "source": [
    "Decompression des fichiers"
   ]
  },
  {
   "cell_type": "code",
   "execution_count": null,
   "id": "a394adf0-923a-4377-b06e-d55ccf9827bf",
   "metadata": {
    "tags": []
   },
   "outputs": [],
   "source": [
    "!unzip data.zip"
   ]
  },
  {
   "cell_type": "markdown",
   "id": "7b0acd51-d3ed-4864-8795-53c8f2363aed",
   "metadata": {
    "tags": []
   },
   "source": [
    "Extraction des donnees"
   ]
  },
  {
   "cell_type": "code",
   "execution_count": 2,
   "id": "a10b7e63-5e8d-4a39-a052-79f6945c1201",
   "metadata": {},
   "outputs": [],
   "source": [
    "def extraire_csv(fichier):\n",
    "    dataframe_csv = pd.read_csv(fichier)\n",
    "    return dataframe_csv"
   ]
  },
  {
   "cell_type": "code",
   "execution_count": null,
   "id": "900ea63b-618c-4342-80b6-67f4e721520a",
   "metadata": {},
   "outputs": [],
   "source": []
  },
  {
   "cell_type": "code",
   "execution_count": 14,
   "id": "28986703-0a2e-44c8-9b5c-7e90413982fe",
   "metadata": {},
   "outputs": [
    {
     "name": "stdout",
     "output_type": "stream",
     "text": [
      "LISTE DES CIRCONSCRIPTIONS ADMINISTRATIVES ET DES COMMUNES.csv\n",
      "Recensement-de-la-population-ivoirienne-par-region.csv\n",
      "LISTE DES ETABLISSEMENTS PUBLICS ET PRIVE PAR DREN.csv\n"
     ]
    }
   ],
   "source": [
    "for fichier_csv in glob.glob(\"*.csv\"):\n",
    "    print(fichier_csv)\n",
    "    df = extraire_csv(fichier_csv)\n",
    "    df['name'] = os.path.basename(os.path.normpath(fichier_csv))\n",
    "    #print(df.name)"
   ]
  },
  {
   "cell_type": "code",
   "execution_count": 15,
   "id": "2b6cac6b-070f-4535-951a-5916fba3c29d",
   "metadata": {
    "tags": []
   },
   "outputs": [
    {
     "ename": "SyntaxError",
     "evalue": "invalid syntax (211051217.py, line 1)",
     "output_type": "error",
     "traceback": [
      "\u001b[0;36m  Cell \u001b[0;32mIn[15], line 1\u001b[0;36m\u001b[0m\n\u001b[0;31m    LISTE DES CIRCONSCRIPTIONS ADMINISTRATIVES ET DES COMMUNES.csv\u001b[0m\n\u001b[0m          ^\u001b[0m\n\u001b[0;31mSyntaxError\u001b[0m\u001b[0;31m:\u001b[0m invalid syntax\n"
     ]
    }
   ],
   "source": [
    "LISTE DES CIRCONSCRIPTIONS ADMINISTRATIVES ET DES COMMUNES.csv"
   ]
  },
  {
   "cell_type": "code",
   "execution_count": null,
   "id": "ea1587c0-6360-4738-832b-d1c17aeaba9b",
   "metadata": {},
   "outputs": [],
   "source": []
  }
 ],
 "metadata": {
  "kernelspec": {
   "display_name": "Python 3 (ipykernel)",
   "language": "python",
   "name": "python3"
  },
  "language_info": {
   "codemirror_mode": {
    "name": "ipython",
    "version": 3
   },
   "file_extension": ".py",
   "mimetype": "text/x-python",
   "name": "python",
   "nbconvert_exporter": "python",
   "pygments_lexer": "ipython3",
   "version": "3.9.13"
  }
 },
 "nbformat": 4,
 "nbformat_minor": 5
}
