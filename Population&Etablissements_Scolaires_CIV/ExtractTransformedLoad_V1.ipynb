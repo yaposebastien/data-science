{
 "cells": [
  {
   "cell_type": "markdown",
   "id": "83644559-80d4-44dc-8da1-8c7dde0ac558",
   "metadata": {
    "tags": []
   },
   "source": [
    "# **Extract Transform Load (ETL)**\n"
   ]
  },
  {
   "cell_type": "markdown",
   "id": "73c9fdea-9ed5-44ca-9cdd-afed6692e69d",
   "metadata": {
    "tags": []
   },
   "source": [
    "# Concept: Extract Transform Load (ETL)\n",
    "\n",
    "\n",
    "## Objectifs\n",
    "\n",
    "Après avoir terminé cet atelier, vous serez en mesure de:\n",
    "\n",
    "*   Lire des fichiers d'extension CSV\n",
    "*   Extraire des données contenues dans les fichiers sub-mentionnés\n",
    "*   Transformer ces données\n",
    "*   Sauvegarder les données transformées dans un format compatible ou à l enregistrement dans une base de données\n"
   ]
  },
  {
   "cell_type": "markdown",
   "id": "e297e3a4-5469-4b67-b397-fbf0fba4bbf1",
   "metadata": {
    "tags": []
   },
   "source": [
    "Importation des modules requis"
   ]
  },
  {
   "cell_type": "code",
   "execution_count": 4,
   "id": "e164c583-a52a-42e1-8b8f-c888440a334a",
   "metadata": {
    "tags": []
   },
   "outputs": [],
   "source": [
    "import glob  # Ce module permets la selection des fichiers\n",
    "import pandas as pd # Ce module permets le traitement des fichiers\n",
    "from datetime import datetime"
   ]
  },
  {
   "cell_type": "markdown",
   "id": "4004de7d-e810-4da7-b1a0-16d09f4d2d53",
   "metadata": {},
   "source": [
    "Decompression des fichiers"
   ]
  },
  {
   "cell_type": "code",
   "execution_count": null,
   "id": "a394adf0-923a-4377-b06e-d55ccf9827bf",
   "metadata": {
    "tags": []
   },
   "outputs": [],
   "source": [
    "!unzip data.zip"
   ]
  },
  {
   "cell_type": "code",
   "execution_count": null,
   "id": "0edf5271-2d23-4a57-8879-5201a7147afb",
   "metadata": {},
   "outputs": [],
   "source": []
  }
 ],
 "metadata": {
  "kernelspec": {
   "display_name": "Python 3 (ipykernel)",
   "language": "python",
   "name": "python3"
  },
  "language_info": {
   "codemirror_mode": {
    "name": "ipython",
    "version": 3
   },
   "file_extension": ".py",
   "mimetype": "text/x-python",
   "name": "python",
   "nbconvert_exporter": "python",
   "pygments_lexer": "ipython3",
   "version": "3.9.13"
  }
 },
 "nbformat": 4,
 "nbformat_minor": 5
}
